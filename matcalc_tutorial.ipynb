{
 "cells": [
  {
   "cell_type": "code",
   "execution_count": null,
   "id": "04173e9e",
   "metadata": {
    "slideshow": {
     "slide_type": "skip"
    }
   },
   "outputs": [],
   "source": [
    "import warnings\n",
    "warnings.filterwarnings('ignore')"
   ]
  },
  {
   "cell_type": "markdown",
   "id": "4e0994c5",
   "metadata": {
    "slideshow": {
     "slide_type": "skip"
    }
   },
   "source": [
    "# About this notebook\n",
    "\n",
    "Author: Anubhav Jain\n",
    "\n",
    "Github repo: TBD\n",
    "\n",
    "YouTube video: TBD"
   ]
  },
  {
   "cell_type": "markdown",
   "id": "859b5f2c",
   "metadata": {
    "slideshow": {
     "slide_type": "slide"
    }
   },
   "source": [
    "![Matcalc tutorial](graphics/title.png \"Matcalc Tutorial\")"
   ]
  },
  {
   "cell_type": "markdown",
   "id": "cfa4dbfc",
   "metadata": {
    "slideshow": {
     "slide_type": "slide"
    }
   },
   "source": [
    "# Tutorial overview\n",
    "\n",
    "In this tutorial, we are going to learn to very quickly simulate materials properties such as surface energies, thermal properties, and mechanical properties using the *matcalc* software. Advancements in machine learning interatomic potentials have made such simulations extremely fast and simple.\n",
    "\n",
    "\n",
    "More information about the theory of machine learned potentials can be found in a previous video: https://youtu.be/tWeBrPTrSDE\n",
    "\n",
    "In this tutorial, we'll focus on hands-on practical running of simulations. We will complete the following tasks:\n",
    "\n",
    "1. Optimize structural parameters and calculate the total energy of GaAs\n",
    "    - Repeat the calculation with a different interatomic potential / potential energy surface from matgl\n",
    "    - Repeat the calculation with a different potential from the internet\n",
    "2. Calculate surface energy of Si(111)\n",
    "3. Calculate the phonon dispersion of Si\n",
    "4. Calculate the elastic tensors of 25 different materials with parallelization\n",
    "\n",
    "Let's get started!"
   ]
  },
  {
   "cell_type": "markdown",
   "id": "b131c3c9",
   "metadata": {
    "slideshow": {
     "slide_type": "slide"
    }
   },
   "source": [
    "# Installation of packages\n",
    "\n",
    "The first step is to install all required packages via ``pip``. We need:\n",
    "\n",
    "* the core ``matcalc`` library\n",
    "\n",
    "Additionally, it is highly recommended (and necessary for this tutorial) to install:\n",
    "* the ``matgl`` library, which provides some universal potential for us to use\n",
    "* the ``seekpath`` library, which is needed to calculate phonon band structures\n",
    "\n",
    "Finally, it is optional to install:\n",
    "* the ``crystal_toolkit`` library, which helps with visualization in the notebook"
   ]
  },
  {
   "cell_type": "code",
   "execution_count": null,
   "id": "80ba6507",
   "metadata": {
    "slideshow": {
     "slide_type": "fragment"
    }
   },
   "outputs": [],
   "source": [
    "!pip install matcalc\n",
    "\n",
    "!pip install matgl\n",
    "!pip install seekpath\n",
    "\n",
    "!pip install crystal-toolkit"
   ]
  },
  {
   "cell_type": "markdown",
   "id": "4ea517c2",
   "metadata": {
    "slideshow": {
     "slide_type": "slide"
    }
   },
   "source": [
    "# Task 1. Optimize structural parameters and calculate the total energy of GaAs\n",
    "\n",
    "One of the most common tasks in materials modeling is optimizing the structural parameters of a crystal structure and calculating its total energy following the relaxation.\n",
    "\n",
    "As the target structure, we will load the experimental structure of GaAs from the Crystallography Open Database, or COD, from a CIF file.\n",
    "\n",
    "If you use structures from the COD for your own work, please make sure to cite their resource: https://wiki.crystallography.net/cod/citing/\n"
   ]
  },
  {
   "cell_type": "markdown",
   "id": "91635d6c",
   "metadata": {
    "slideshow": {
     "slide_type": "slide"
    }
   },
   "source": [
    "Let's start by loading and visualizing the GaAs structure. We will use the *pymatgen* code to create a ``Structure`` object.\n",
    "\n",
    "For more details about *pymatgen* ``Structure`` objects, as well as additional ways to load crystal structures, see Part 1 of the pymatgen tutorial: https://youtu.be/b0tieiedGdg"
   ]
  },
  {
   "cell_type": "code",
   "execution_count": null,
   "id": "31515d25",
   "metadata": {
    "slideshow": {
     "slide_type": "fragment"
    }
   },
   "outputs": [],
   "source": [
    "import crystal_toolkit  # for interactive visualization only; can omit if causing problems\n",
    "import os\n",
    "from pymatgen.core import Structure\n",
    "\n",
    "# Get a structure we want to optimize\n",
    "gaas_expt = Structure.from_file(os.path.join(\"structures\", \"GaAs.cif\"))  # expt. structure from COD\n",
    "print(gaas_expt)\n",
    "gaas_expt"
   ]
  },
  {
   "cell_type": "markdown",
   "id": "a1958a80",
   "metadata": {
    "slideshow": {
     "slide_type": "fragment"
    }
   },
   "source": [
    "Let's now perturb the structure from its initial position. We will do this by expanding the lattice parameters as well as adding random noise to the atom positions."
   ]
  },
  {
   "cell_type": "code",
   "execution_count": null,
   "id": "2ecf6547",
   "metadata": {
    "slideshow": {
     "slide_type": "fragment"
    }
   },
   "outputs": [],
   "source": [
    "gaas_perturbed = gaas_expt.copy().perturb(0.2)  # perturb atom positions\n",
    "gaas_perturbed.scale_lattice(gaas_expt.volume * 1.2)  # expand the lattice\n",
    "\n",
    "print(gaas_perturbed)\n",
    "gaas_perturbed"
   ]
  },
  {
   "cell_type": "markdown",
   "id": "b5b79292",
   "metadata": {
    "slideshow": {
     "slide_type": "fragment"
    }
   },
   "source": [
    "Ok, now it's time to optimize our perturbed structure using universal potentials. The first thing we need to do is to select a potential energy surface. The *matcalc* code refers to these as \"calculators\".\n",
    "\n",
    "We can print out a list of all calculators bundled with the *matgl* code that we previously installed (later we'll show how to use other potentials not bundled with *matgl*)."
   ]
  },
  {
   "cell_type": "code",
   "execution_count": null,
   "id": "fabbba45",
   "metadata": {
    "slideshow": {
     "slide_type": "fragment"
    }
   },
   "outputs": [],
   "source": [
    "import matcalc\n",
    "from matcalc.utils import UNIVERSAL_CALCULATORS\n",
    "\n",
    "import pprint\n",
    "pprint.pprint(list(UNIVERSAL_CALCULATORS))  # calculators that come with bundled with matgl"
   ]
  },
  {
   "cell_type": "markdown",
   "id": "98750e65",
   "metadata": {
    "slideshow": {
     "slide_type": "fragment"
    }
   },
   "source": [
    "For ease of use, we can use shortcuts to get \"recommended\" potentials for various levels of theory used in the training data. Note that these recommended potentials might change with time, so if you need stability you should specify the potential name explicitly.\n",
    "\n",
    "For now, we'll load the default model that is trained on DFT-PBE level data."
   ]
  },
  {
   "cell_type": "code",
   "execution_count": null,
   "id": "5b515e00",
   "metadata": {
    "slideshow": {
     "slide_type": "fragment"
    }
   },
   "outputs": [],
   "source": [
    "from matcalc.utils import MODEL_ALIASES\n",
    "pprint.pprint(MODEL_ALIASES)  # list all \"aliased\" models"
   ]
  },
  {
   "cell_type": "code",
   "execution_count": null,
   "id": "ec202377",
   "metadata": {
    "slideshow": {
     "slide_type": "fragment"
    }
   },
   "outputs": [],
   "source": [
    "calculator_pbe = matcalc.load_fp(\"pbe\")  # recommended calculator for PBE functional - note default can change over time!\n",
    "# calculator_pbe = matcalc.load_fp(\"TensorNet-MatPES-PBE-v2025.1-PES\")  # enforce calculator explicitly"
   ]
  },
  {
   "cell_type": "markdown",
   "id": "eb176e0e",
   "metadata": {
    "slideshow": {
     "slide_type": "fragment"
    }
   },
   "source": [
    "Now that we have a calculator object, we can run a simulation with *matcalc*. We need to specify the type of simulation we want to do by instantiating the appropriate Property Calclulator from *matcalc*, and then call the ``calc()`` function on our desired structure.\n",
    "\n",
    "Here, we will try to optimize our perturbed structure to see if we can recover our original cell volume and crystallographic atom positions using the structure optimization."
   ]
  },
  {
   "cell_type": "code",
   "execution_count": null,
   "id": "dc5aefa4",
   "metadata": {
    "slideshow": {
     "slide_type": "fragment"
    }
   },
   "outputs": [],
   "source": [
    "relax_calc = matcalc.RelaxCalc(\n",
    "    calculator_pbe,\n",
    "    optimizer=\"FIRE\",\n",
    "    relax_atoms=True,\n",
    "    relax_cell=True,\n",
    ")\n",
    "\n",
    "data = relax_calc.calc(gaas_perturbed)"
   ]
  },
  {
   "cell_type": "markdown",
   "id": "861d14cb",
   "metadata": {
    "slideshow": {
     "slide_type": "fragment"
    }
   },
   "source": [
    "Now that we have the data from the relaxation simulation, we can examine it. It contains not only the optimized structure, but also the energy of the configuration, forces on atoms, and cell stress after optimization."
   ]
  },
  {
   "cell_type": "code",
   "execution_count": null,
   "id": "b4bb3c00",
   "metadata": {
    "slideshow": {
     "slide_type": "fragment"
    }
   },
   "outputs": [],
   "source": [
    "pprint.pprint(data)"
   ]
  },
  {
   "cell_type": "code",
   "execution_count": null,
   "id": "50d77a91",
   "metadata": {
    "slideshow": {
     "slide_type": "fragment"
    }
   },
   "outputs": [],
   "source": [
    "final_structure_pbe = data[\"final_structure\"]\n",
    "print(final_structure_pbe)\n",
    "final_structure_pbe"
   ]
  },
  {
   "cell_type": "markdown",
   "id": "9a226c6a",
   "metadata": {
    "slideshow": {
     "slide_type": "fragment"
    }
   },
   "source": [
    "Examining the structure, we will see that we got close to recovering our perfect crystallographic atom positions. \n",
    "\n",
    "Our cell volume is also closer to experiment than the perturbed structure; however, because the DFT-PBE training data tends to overestimate lattice parameters, the corresponding machine-learned potential also produces cell lengths slightly larger than experiment."
   ]
  },
  {
   "cell_type": "markdown",
   "id": "07060d99",
   "metadata": {
    "slideshow": {
     "slide_type": "slide"
    }
   },
   "source": [
    "## Task 1b. Repeat the calculation with a different interatomic potential / potential energy surface from matgl\n",
    "\n",
    "Now let's repeat the same structure optimization, but use a different machine-learned interatomic potential from the *matgl* library. In particular, we will use a potential trained on meta-GGA calculations (the r2SCAN method) that is typically more accurate than PBE. However, less training data is available for r2SCAN calculations."
   ]
  },
  {
   "cell_type": "code",
   "execution_count": null,
   "id": "f5043901",
   "metadata": {
    "slideshow": {
     "slide_type": "fragment"
    }
   },
   "outputs": [],
   "source": [
    "calculator_r2scan = matcalc.load_fp(\"r2scan\")  # recommended calculator for r2scan functional"
   ]
  },
  {
   "cell_type": "code",
   "execution_count": null,
   "id": "98e97cdd",
   "metadata": {
    "slideshow": {
     "slide_type": "fragment"
    }
   },
   "outputs": [],
   "source": [
    "relax_calc = matcalc.RelaxCalc(\n",
    "    calculator_r2scan,\n",
    "    optimizer=\"FIRE\",\n",
    "    relax_atoms=True,\n",
    "    relax_cell=True,\n",
    ")\n",
    "\n",
    "data = relax_calc.calc(gaas_perturbed)\n",
    "final_structure_r2scan = data[\"final_structure\"]\n",
    "print(final_structure_r2scan)\n",
    "final_structure_r2scan"
   ]
  },
  {
   "cell_type": "markdown",
   "id": "8969d9cb",
   "metadata": {
    "slideshow": {
     "slide_type": "fragment"
    }
   },
   "source": [
    "We see that this potential has better reproduced the lattice parameters of GaAs starting from the perturbed structure."
   ]
  },
  {
   "cell_type": "markdown",
   "id": "fce3822d",
   "metadata": {
    "slideshow": {
     "slide_type": "slide"
    }
   },
   "source": [
    "## Task 1c. Repeat the calculation with a different potential from the internet\n",
    "\n",
    "Now, let's use a potential that is not bundled with *matgl*. The *matcalc* software can use any potential that implements an ``ASECalculator``.\n",
    "\n",
    "For example, the MACE library distributes foundation models that implement the ASE calculator:\n",
    "https://mace-docs.readthedocs.io/en/latest/guide/foundation_models.html\n",
    "\n",
    "We can thus install the *mace-torch* library and load the corresponding calculator for use with *matcalc*."
   ]
  },
  {
   "cell_type": "code",
   "execution_count": null,
   "id": "dc7bbf72",
   "metadata": {
    "slideshow": {
     "slide_type": "fragment"
    }
   },
   "outputs": [],
   "source": [
    "!pip install mace-torch"
   ]
  },
  {
   "cell_type": "code",
   "execution_count": null,
   "id": "26da763a",
   "metadata": {
    "slideshow": {
     "slide_type": "fragment"
    }
   },
   "outputs": [],
   "source": [
    "from mace.calculators import mace_mp\n",
    "\n",
    "calculator_macemp = mace_mp()  #  load the MACE calculator\n",
    "\n",
    "print(\"-\"*46)\n",
    "print(\"Class hierarchy for the MACE calculator object\")\n",
    "print(\"-\"*46)\n",
    "print(type(calculator_macemp).__mro__)  # demonstrate that this implements the ASE Calculator model"
   ]
  },
  {
   "cell_type": "markdown",
   "id": "321c4556",
   "metadata": {
    "slideshow": {
     "slide_type": "fragment"
    }
   },
   "source": [
    "It is now straightforward to run the structure optimization with MACE.\n",
    "\n",
    "Note that this potential is also trained on PBE data, so overestimation of lattice parameters is expected."
   ]
  },
  {
   "cell_type": "code",
   "execution_count": null,
   "id": "e22b4afb",
   "metadata": {
    "slideshow": {
     "slide_type": "fragment"
    }
   },
   "outputs": [],
   "source": [
    "relax_calc = matcalc.RelaxCalc(\n",
    "    calculator_macemp,\n",
    "    optimizer=\"FIRE\",\n",
    "    relax_atoms=True,\n",
    "    relax_cell=True,\n",
    ")\n",
    "\n",
    "data = relax_calc.calc(gaas_perturbed)\n",
    "\n",
    "final_structure_mace = data[\"final_structure\"]\n",
    "print(final_structure_mace)\n",
    "final_structure_mace"
   ]
  },
  {
   "cell_type": "markdown",
   "id": "4e376848",
   "metadata": {
    "slideshow": {
     "slide_type": "slide"
    }
   },
   "source": [
    "# Task 2. Calculate surface energy of Si\n",
    "\n",
    "Let's now switch to a different type of simulation. Next, we will calculate the surface energy of the (111) surface of silicon. This will involve cleaving the (111) surface and comparing the per-atom energy of the surface slab to the bulk cell."
   ]
  },
  {
   "cell_type": "markdown",
   "id": "6de10f9c",
   "metadata": {
    "slideshow": {
     "slide_type": "slide"
    }
   },
   "source": [
    "Let's start by loading the conventional structure of Si retrieved from the Crystallography Open Database."
   ]
  },
  {
   "cell_type": "code",
   "execution_count": null,
   "id": "8dca38cd",
   "metadata": {
    "slideshow": {
     "slide_type": "fragment"
    }
   },
   "outputs": [],
   "source": [
    "si_expt = Structure.from_file(os.path.join(\"structures\", \"Si.cif\"))  # expt structure from COD\n",
    "print(si_expt)\n",
    "si_expt"
   ]
  },
  {
   "cell_type": "markdown",
   "id": "df1f659e",
   "metadata": {
    "slideshow": {
     "slide_type": "fragment"
    }
   },
   "source": [
    "Next, we will create the slab cell that contains the Si(111) surface.\n",
    "\n",
    "Note that multiple slabs can be created depending on the details of the surface cleaving, which may result in different surface energies. The ``calc_slabs()`` function has various options that can be used to control the slab properties, but for now we will just use defaults."
   ]
  },
  {
   "cell_type": "code",
   "execution_count": null,
   "id": "3e6185c0",
   "metadata": {
    "slideshow": {
     "slide_type": "fragment"
    }
   },
   "outputs": [],
   "source": [
    "surface_calc = matcalc.SurfaceCalc(calculator_pbe)\n",
    "slab_data = surface_calc.calc_slabs(si_expt, miller_index=(1, 1, 1), inplane_supercell=(2,2))\n",
    "\n",
    "slab_structure = slab_data[0][\"slab\"]\n",
    "print(slab_structure)\n",
    "slab_structure"
   ]
  },
  {
   "cell_type": "markdown",
   "id": "6c3a8b62",
   "metadata": {
    "slideshow": {
     "slide_type": "fragment"
    }
   },
   "source": [
    "With our slab structure determined, we can calculate a surface energy by comparing the slab energy to the bulk.\n",
    "\n",
    "Surface energies are difficult to measure, but for Si(111), we are aiming to get an unreconstructed surface energy of \\~0.1 eV/A^2 which is \\~1.6 J/m^2.\n",
    "\n",
    "(1) Tran, R.; Xu, Z.; Radhakrishnan, B.; Winston, D.; Sun, W.; Persson, K. A.; Ong, S. P. Surface Energies of Elemental Crystals. Sci Data 2016, 3 (1), 160080. https://doi.org/10.1038/sdata.2016.80.\n",
    "\n",
    "See also: http://crystalium.materialsvirtuallab.org"
   ]
  },
  {
   "cell_type": "code",
   "execution_count": null,
   "id": "719bd74f",
   "metadata": {
    "slideshow": {
     "slide_type": "fragment"
    }
   },
   "outputs": [],
   "source": [
    "surface_data = surface_calc.calc({\"bulk\": si_expt, \"slab\": slab_structure})\n",
    "print(surface_data[\"surface_energy\"])"
   ]
  },
  {
   "cell_type": "markdown",
   "id": "21dd6590",
   "metadata": {
    "slideshow": {
     "slide_type": "fragment"
    }
   },
   "source": [
    "The basic calculation underestimates, so caution is needed when doing these kinsd of simulations quickly.\n",
    "\n",
    "However, we will keep moving forward."
   ]
  },
  {
   "cell_type": "markdown",
   "id": "563521ef",
   "metadata": {
    "slideshow": {
     "slide_type": "slide"
    }
   },
   "source": [
    "# Task 3: Calculate the phonon dispersion of Si\n",
    "\n",
    "Next, we'll calculate the phonon dispersion of Si. The phonon dispersion provides information about crystalline vibrations which can be related to thermal conductivity, heat capacity, free energy, and other materials properties.\n",
    "\n",
    "More information about how to interpret phonon dispersions can be found here: https://youtu.be/acT6zQbiiio"
   ]
  },
  {
   "cell_type": "markdown",
   "id": "ace2298e",
   "metadata": {
    "slideshow": {
     "slide_type": "slide"
    }
   },
   "source": [
    "Calculating phonon properties is as easy as running the ``PhononCalc`` Property Calculator on the target structure.\n",
    "\n",
    "We will load the primitive cell (with the fewest number of atoms in the unit cell) to make the calculations efficient as well as to have a more interpretable band structure."
   ]
  },
  {
   "cell_type": "code",
   "execution_count": null,
   "id": "7fd0f2bd",
   "metadata": {
    "slideshow": {
     "slide_type": "fragment"
    }
   },
   "outputs": [],
   "source": [
    "si_primitive = Structure.from_file(os.path.join(\"structures\", \"Si_primitive_mp-149.cif\"))\n",
    "si_primitive"
   ]
  },
  {
   "cell_type": "markdown",
   "id": "a2e20f2b",
   "metadata": {
    "slideshow": {
     "slide_type": "fragment"
    }
   },
   "source": [
    "After loading the structure, running the phonon calculation is as easy as invoking the ``PhononCalc`` property calculator using our potential energy function of choice."
   ]
  },
  {
   "cell_type": "code",
   "execution_count": null,
   "id": "5f1a72f3",
   "metadata": {
    "slideshow": {
     "slide_type": "fragment"
    }
   },
   "outputs": [],
   "source": [
    "from matcalc import PhononCalc\n",
    "phonon_calc = PhononCalc(calculator_pbe, relax_structure=True, \n",
    "                         write_band_structure=os.path.join(\"outputs\", \"si_phonon_bs.yaml\"),\n",
    "                         write_total_dos=os.path.join(\"outputs\", \"si_phonon_dos.dat\"),\n",
    "                         write_phonon=os.path.join(\"outputs\", \"si_phonon.yaml\"))\n",
    "data = phonon_calc.calc(si_primitive)"
   ]
  },
  {
   "cell_type": "markdown",
   "id": "63295602",
   "metadata": {
    "slideshow": {
     "slide_type": "fragment"
    }
   },
   "source": [
    "Let's now plot the phonon dispersion."
   ]
  },
  {
   "cell_type": "code",
   "execution_count": null,
   "id": "ff85f0b4",
   "metadata": {
    "slideshow": {
     "slide_type": "fragment"
    }
   },
   "outputs": [],
   "source": [
    "import matplotlib.pyplot as plt\n",
    "\n",
    "phonon_bs = data[\"phonon\"].band_structure  # get the phonon band structure\n",
    "\n",
    "# Plotting code below here -->\n",
    "n_axes = sum(1 for c in phonon_bs.path_connections if not c)\n",
    "# Create n_axes subplot(s) along 1 row\n",
    "fig, axs = plt.subplots(1, n_axes, figsize=(16, 5))\n",
    "# If only one axis is created, wrap it into a list\n",
    "if n_axes == 1:\n",
    "    axs = [axs]\n",
    "\n",
    "    # Remove y-axis labels & ticks from all but the first subplot\n",
    "for ax in axs[1:]:\n",
    "    ax.set_ylabel('')\n",
    "    ax.tick_params(axis='y', labelleft=False)\n",
    "\n",
    "phonon_bs.plot(ax=axs)\n",
    "fig.suptitle(\"Phonon Band Structure of Si\", fontsize=16)\n",
    "plt.subplots_adjust(wspace=0.02)  # Remove horizontal space so they almost touch\n",
    "plt.show()\n",
    "\n"
   ]
  },
  {
   "cell_type": "markdown",
   "id": "296d609c",
   "metadata": {
    "slideshow": {
     "slide_type": "fragment"
    }
   },
   "source": [
    "We can also plot the phonon density of states, or DOS."
   ]
  },
  {
   "cell_type": "code",
   "execution_count": null,
   "id": "6d4460e9",
   "metadata": {
    "slideshow": {
     "slide_type": "fragment"
    }
   },
   "outputs": [],
   "source": [
    "phonon_dos = data[\"phonon\"].total_dos\n",
    "\n",
    "fig, ax = plt.subplots(figsize=(8, 5))\n",
    "phonon_dos.plot(ax=ax)\n",
    "plt.title(\"Phonon Density of States of Si\", fontsize=16)\n",
    "plt.show()"
   ]
  },
  {
   "cell_type": "markdown",
   "id": "c1888d4e",
   "metadata": {
    "slideshow": {
     "slide_type": "fragment"
    }
   },
   "source": [
    "Finally, let's plot the vibrational heat capacity of the material.\n",
    "\n",
    "Note that the heat capacity is plotted in J/mol*K, where we are referring to **mols of the formula unit / molecule in the unit cell**. Since our unit cell contained 2 atoms of Si, this is the heat capacity per 2 mols of Si, not per mol of Si."
   ]
  },
  {
   "cell_type": "code",
   "execution_count": null,
   "id": "bd26c663",
   "metadata": {
    "slideshow": {
     "slide_type": "fragment"
    }
   },
   "outputs": [],
   "source": [
    "# plot the heat capacity\n",
    "import matplotlib.pyplot as plt\n",
    "plt.plot(data[\"thermal_properties\"][\"temperatures\"], data[\"thermal_properties\"][\"heat_capacity\"])\n",
    "plt.xlabel(\"Temperature (K)\")\n",
    "plt.ylabel(\"Heat Capacity (J/mol-K)\")\n",
    "plt.title(\"Heat Capacity vs Temperature\")\n",
    "plt.show()"
   ]
  },
  {
   "cell_type": "markdown",
   "id": "0cd33858",
   "metadata": {
    "slideshow": {
     "slide_type": "fragment"
    }
   },
   "source": [
    "All this thermal data can be compared, for example, to phonon data in the Materials Project: https://next-gen.materialsproject.org/materials/mp-149?material_ids=mp-149"
   ]
  },
  {
   "cell_type": "markdown",
   "id": "946b8156",
   "metadata": {
    "slideshow": {
     "slide_type": "slide"
    }
   },
   "source": [
    "# Task 4. Calculate 25 elastic tensors with parallelization\n",
    "\n",
    "The *matcalc* software includes basic facilities to parallelize individual calculations over various processing cores. This is as simple as replacing the ``calc()`` function in a Property Calculator with the ``calc_many()`` function, and providing a list of ``Structure`` objects instead of a single object.\n",
    "\n",
    "Let's use this functionality to calculate the elastic tensors of 25 materials in parallel."
   ]
  },
  {
   "cell_type": "markdown",
   "id": "3a956805",
   "metadata": {
    "slideshow": {
     "slide_type": "slide"
    }
   },
   "source": [
    "Let's first load 25 structures."
   ]
  },
  {
   "cell_type": "code",
   "execution_count": null,
   "id": "a53ed699",
   "metadata": {
    "slideshow": {
     "slide_type": "fragment"
    }
   },
   "outputs": [],
   "source": [
    "import glob\n",
    "\n",
    "# Find all .cif files in the \"cifs_mp\" folder\n",
    "cif_files = glob.glob(\"structures_batch/*.cif\")  # folder contains assorted crystal structures from Materials Project\n",
    "structures = []\n",
    "for cif_file in cif_files:\n",
    "    structures.append(Structure.from_file(cif_file))\n",
    "    \n",
    "print(len(structures))"
   ]
  },
  {
   "cell_type": "markdown",
   "id": "18610d38",
   "metadata": {
    "slideshow": {
     "slide_type": "fragment"
    }
   },
   "source": [
    "We can now use the ``calc_many()`` function of ``ElasticityCalc`` to calculate elastic moduli of all these materials. Note that casting the result to a list forces the calculatons to take place and ``njobs=-1`` tries to use all cores on your processor.\n",
    "\n",
    "We'll time how long it takes to calculate 25 elastic tensors using the ``%%time`` magic command."
   ]
  },
  {
   "cell_type": "code",
   "execution_count": null,
   "id": "7deb2638",
   "metadata": {
    "slideshow": {
     "slide_type": "fragment"
    }
   },
   "outputs": [],
   "source": [
    "%%time\n",
    "\n",
    "from matcalc import ElasticityCalc\n",
    "elastic_calc = ElasticityCalc(calculator_pbe, relax_structure=True)\n",
    "elastic_data = list(elastic_calc.calc_many(structures, n_jobs=-1))"
   ]
  },
  {
   "cell_type": "markdown",
   "id": "797b393a",
   "metadata": {
    "slideshow": {
     "slide_type": "fragment"
    }
   },
   "source": [
    "Our 25 calculations are complete - let's now print out our results! Note that each item contains more data, we will just print out various elastic moduli instead of the full elastic tensor."
   ]
  },
  {
   "cell_type": "code",
   "execution_count": null,
   "id": "058c8787",
   "metadata": {
    "slideshow": {
     "slide_type": "fragment"
    }
   },
   "outputs": [],
   "source": [
    "multiplier_GPa = 160.2176621  # unit conversions for eV/A^3 to GPa\n",
    "\n",
    "for idx, data_item in enumerate(elastic_data):\n",
    "    print(cif_files[idx])\n",
    "    print(\"--------\")\n",
    "    print(f\"Bulk modulus: {data_item['bulk_modulus_vrh'] * multiplier_GPa} GPa\")\n",
    "    print(f\"Shear modulus: {data_item['shear_modulus_vrh'] * multiplier_GPa} GPa\")\n",
    "    print(\"\\n\")"
   ]
  },
  {
   "cell_type": "markdown",
   "id": "87d0b63a",
   "metadata": {
    "slideshow": {
     "slide_type": "fragment"
    }
   },
   "source": [
    "These values can be compared against calculation in the Materials Project, for example: https://next-gen.materialsproject.org/materials/mp-149\n",
    "\n",
    "You can also get the full 3x3x3x3 (``C_ijkl``) elastic tensor (in eV/A^3) for any material."
   ]
  },
  {
   "cell_type": "code",
   "execution_count": null,
   "id": "a9232ba4",
   "metadata": {},
   "outputs": [],
   "source": [
    "print(cif_files[0])\n",
    "print(f\"Elastic tensor: {elastic_data[0]['elastic_tensor']}\")"
   ]
  },
  {
   "cell_type": "markdown",
   "id": "50d07108",
   "metadata": {
    "slideshow": {
     "slide_type": "slide"
    }
   },
   "source": [
    "# Other functionalities\n",
    "\n",
    "The *matcalc* code contains other functionalities, including:\n",
    "\n",
    "* additional property calculators, like nudged elastic band (NEB) activation energies, third order phonons, and molecular dynamics runs\n",
    "* basic workflow capabilities, such as defining a chain of calculators that can be re-used.\n",
    "\n",
    "To learn these functionalities, please check the official documentation at:\n",
    "* https://github.com/materialsvirtuallab/matcalc\n",
    "* https://matcalc.ai\n",
    "\n",
    "![NEB calc](graphics/neb.png \"NEB calculation\")\n"
   ]
  }
 ],
 "metadata": {
  "celltoolbar": "Slideshow",
  "kernelspec": {
   "display_name": "Python 3 (ipykernel)",
   "language": "python",
   "name": "python3"
  },
  "language_info": {
   "codemirror_mode": {
    "name": "ipython",
    "version": 3
   },
   "file_extension": ".py",
   "mimetype": "text/x-python",
   "name": "python",
   "nbconvert_exporter": "python",
   "pygments_lexer": "ipython3",
   "version": "3.11.4"
  }
 },
 "nbformat": 4,
 "nbformat_minor": 5
}
